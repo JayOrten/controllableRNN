{
 "cells": [
  {
   "cell_type": "code",
   "execution_count": 4,
   "metadata": {},
   "outputs": [],
   "source": [
    "import import_ipynb"
   ]
  },
  {
   "cell_type": "code",
   "execution_count": 5,
   "metadata": {},
   "outputs": [],
   "source": [
    "import vocab_building as vb\n",
    "import pickle as pkl"
   ]
  },
  {
   "cell_type": "code",
   "execution_count": 6,
   "metadata": {},
   "outputs": [
    {
     "name": "stdout",
     "output_type": "stream",
     "text": [
      "Building English Vocabulary from ../data/books/combined.txt ...\n"
     ]
    }
   ],
   "source": [
    "# In order to create the vocab, you have to combine all of the sources\n",
    "vocab = vb.build_and_save_vocab_from_file(vb.nlp, \"../data/books/combined.txt\", \"../vocabs_and_tokens/books/books_vocab.pt\")\n",
    "vb.generate_tokenized_file(vocab, vb.nlp, \"../data/books/greatgatsby.txt\", \"../vocabs_and_tokens/books/gatsby_tok.pkl\", lowercase=True)\n",
    "vb.generate_tokenized_file(vocab, vb.nlp, \"../data/books/shakespeare.txt\", \"../vocabs_and_tokens/books/shakespeare_tok.pkl\", lowercase=True)"
   ]
  },
  {
   "cell_type": "code",
   "execution_count": 4,
   "metadata": {},
   "outputs": [
    {
     "name": "stdout",
     "output_type": "stream",
     "text": [
      "Finished.\n",
      "Vocabulary sizes:\n",
      "39051\n",
      "hello\n"
     ]
    }
   ],
   "source": [
    "vocab = vb.load_vocab(\"mar_2023_lowercase_scripts_vocab.pt\")\n",
    "yo = vb.get_vocab_indx_vector(vocab, vb.nlp, \"GEORGE: Are you through?\")\n",
    "tokens = vb.load_tokenized_file(\"lowercase_seinfeld_tok.pkl\")"
   ]
  }
 ],
 "metadata": {
  "kernelspec": {
   "display_name": "base",
   "language": "python",
   "name": "python3"
  },
  "language_info": {
   "codemirror_mode": {
    "name": "ipython",
    "version": 3
   },
   "file_extension": ".py",
   "mimetype": "text/x-python",
   "name": "python",
   "nbconvert_exporter": "python",
   "pygments_lexer": "ipython3",
   "version": "3.11.3"
  },
  "orig_nbformat": 4
 },
 "nbformat": 4,
 "nbformat_minor": 2
}
